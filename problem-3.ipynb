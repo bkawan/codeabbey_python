{
 "cells": [
  {
   "cell_type": "markdown",
   "metadata": {},
   "source": [
    "# Problem-3\n",
    "\n",
    "- Input data will contain the total count of pairs to process in the first line.\n",
    "The following lines will contain pairs themselves - one pair at each line.\n",
    "Answer should contain the results separated by spaces.\n",
    "\n",
    "- Example\n",
    "data:\n",
    "\n",
    "3\n",
    "\n",
    "100 8\n",
    "\n",
    "15 245\n",
    "\n",
    "1945 54\n",
    "\n",
    "answer:\n",
    "\n",
    "108 260 1999\n",
    "\n"
   ]
  },
  {
   "cell_type": "markdown",
   "metadata": {},
   "source": [
    "# Method 1\n",
    "\n",
    "- copy paste all the numbers of number pair into input directly"
   ]
  },
  {
   "cell_type": "code",
   "execution_count": 165,
   "metadata": {
    "collapsed": false
   },
   "outputs": [
    {
     "name": "stdout",
     "output_type": "stream",
     "text": [
      "Enter a numbers of Number pair: 1 2 3 4 5\n",
      "number of pairs must be even\n",
      "Enter a numbers of Number pair: 703544 51296 178709 175443 628395 106353 266241 651452 785950 641757 748723 312793 91258 495779 805708 366503 786768 216367 646200 176135 124052 624163 44826 882863 164459 869771\n",
      "Total Number of  number pairs:  13\n",
      "703544 51296\n",
      "178709 175443\n",
      "628395 106353\n",
      "266241 651452\n",
      "785950 641757\n",
      "748723 312793\n",
      "91258 495779\n",
      "805708 366503\n",
      "786768 216367\n",
      "646200 176135\n",
      "124052 624163\n",
      "44826 882863\n",
      "164459 869771\n",
      "Answers(sum of pairs above): \n",
      "754840 354152 734748 917693 1427707 1061516 587037 1172211 1003135 822335 748215 927689 1034230 "
     ]
    }
   ],
   "source": [
    "num_input= input(\"Enter a numbers of Number pair: \")\n",
    "\n",
    "num_list = [ num.strip() for num in num_input.split() if num ]\n",
    "\n",
    "z = 0\n",
    "while len(num_list)%2 !=0:\n",
    "    print(\"number of pairs must be even\")\n",
    "    num_input= input(\"Enter a numbers of Number pair: \")\n",
    "    num_list = [ num.strip() for num in num_input.split() if num ]\n",
    "    z +=1\n",
    "    \n",
    "print(\"Total Number of  number pairs: \",len(num_list)//2)\n",
    "\n",
    "\n",
    "list_right = []\n",
    "list_left = []\n",
    "i =0\n",
    "\n",
    "while i < len(num_list):\n",
    "    if i%2 == 0:\n",
    "        list_left.append(num_list[i])\n",
    "    else:\n",
    "        list_right.append(num_list[i])\n",
    "    i +=1\n",
    "    \n",
    "x = 0\n",
    "sum_pair=[]\n",
    "\n",
    "while x < len(num_list)/2:\n",
    "    if list_left[x].isdigit() and list_left[x].isdigit():\n",
    "        print(\"{} {}\".format(list_left[x],list_right[x]))\n",
    "        sum_pair.append(int(list_left[x]) +int(list_right[x]))\n",
    "    else:\n",
    "        print(\"{} {} Invalid Numbers pair!! can not be added\".format(list_left[x],list_right[x]))\n",
    "    x +=1\n",
    "\n",
    "print(\"Answers(sum of pairs above): \")\n",
    "for sum in sum_pair:\n",
    "    print(sum,end=\" \")"
   ]
  },
  {
   "cell_type": "markdown",
   "metadata": {},
   "source": [
    "# Method 2\n",
    "\n",
    "- enter first list of number\n",
    "- enter send list of number"
   ]
  },
  {
   "cell_type": "code",
   "execution_count": 151,
   "metadata": {
    "collapsed": false
   },
   "outputs": [
    {
     "name": "stdout",
     "output_type": "stream",
     "text": [
      "Enter 1nd list of numbers seperated by space1 2 \n",
      "Enter 2nd list of numbers seperated by space1 2\n",
      "Total Pair of numbers is  2\n",
      "Pair 1: 1 1\n",
      "Pair 2: 2 2\n",
      "Sum of all the pairs:\n",
      "2 4 "
     ]
    }
   ],
   "source": [
    "num1 = input(\"Enter 1nd list of numbers seperated by space\")\n",
    "\n",
    "list1 = [l1.strip() for l1 in num1.split(\" \") if l1]\n",
    "\n",
    "num2 = input(\"Enter 2nd list of numbers seperated by space\")\n",
    "\n",
    "list2 = [l2.strip() for l2 in num2.split(\" \") if l2]\n",
    "\n",
    "if len(list1) == len(list2):\n",
    "    print(\"Total Pair of numbers is \",len(list1))\n",
    "    i = 0\n",
    "    sum_pair=[]\n",
    "    while i < len(list1):\n",
    "        print(\"Pair {}: {} {}\".format(i+1,list1[i],list2[i]))\n",
    "        #print(\"Sum of \",i+1, \"pair = \", int(list1[i])+int(list2[i]))\n",
    "        sum_pair.append(int(list1[i])+int(list2[i]))\n",
    "        i +=1\n",
    "    print(\"Sum of all the pairs:\")\n",
    "    for sum in sum_pair:\n",
    "        print(sum,end=\" \")\n",
    "\n",
    "else:\n",
    "    print(\"count of 2nd list of numbers much match with count of first list  \")\n",
    "      "
   ]
  }
 ],
 "metadata": {
  "kernelspec": {
   "display_name": "Python 3",
   "language": "python",
   "name": "python3"
  },
  "language_info": {
   "codemirror_mode": {
    "name": "ipython",
    "version": 3
   },
   "file_extension": ".py",
   "mimetype": "text/x-python",
   "name": "python",
   "nbconvert_exporter": "python",
   "pygments_lexer": "ipython3",
   "version": "3.5.1"
  }
 },
 "nbformat": 4,
 "nbformat_minor": 0
}
