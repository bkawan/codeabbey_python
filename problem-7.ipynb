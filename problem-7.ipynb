{
 "cells": [
  {
   "cell_type": "markdown",
   "metadata": {},
   "source": [
    "# Fahrenheit to Celsius\n",
    "\n",
    "By Celsius scale water freezes at 0 degrees and boils at 100 degrees. By Fahrenheit water freezes at 32 degrees and boils at 212 degrees. You may learn more from wikipedia on Fahrenheit. Use these two points for conversion of other temperatures.\n",
    "\n",
    "- Input data contains N+1 values, first of them is N itself (Note that you should not try to convert it).\n",
    "- Answer should contain exactly N results, rounded to nearest integer and separated by spaces.\n",
    "\n",
    "Example:\n",
    "\n",
    "data:\n",
    "\n",
    "5 495 353 168 -39 22\n",
    "\n",
    "answer:\n",
    "\n",
    "257 178 76 -39 -6\n"
   ]
  },
  {
   "cell_type": "code",
   "execution_count": 33,
   "metadata": {
    "collapsed": false
   },
   "outputs": [
    {
     "name": "stdout",
     "output_type": "stream",
     "text": [
      "Enter number followed by spaces30 316 334 90 185 461 94 513 175 422 232 196 363 159 434 310 534 421 584 83 203 328 442 33 287 480 307 362 333 346 397\n",
      "Total Number of Fahrenheit Measurement:  30\n",
      "Fahrenheit: \n",
      "316 334 90 185 461 94 513 175 422 232 196 363 159 434 310 534 421 584 83 203 328 442 33 287 480 307 362 333 346 397 \n",
      "Celcius: \n",
      "158 168 32 85 238 34 267 79 217 111 91 184 71 223 154 279 216 307 28 95 164 228 1 142 249 153 183 167 174 203 "
     ]
    }
   ],
   "source": [
    "num_input = input(\"Enter number followed by spaces\")\n",
    "\n",
    "num_list = None\n",
    "\n",
    "while not num_input:\n",
    "    print(\"Error !!Empty number!!!\")\n",
    "    num_input = input(\"Enter numbers followed by spaces : \")\n",
    "\n",
    "while num_input:    \n",
    "    try:\n",
    "        num_list = [int(n) for n in num_input.split(\" \") if n]\n",
    "        break\n",
    "    except ValueError:\n",
    "        print(\"only integers  are allowed\")\n",
    "        num_input = input(\"Enter numbers followed by spaces  : \")\n",
    "        \n",
    "\n",
    "print(\"Total Number of Fahrenheit Measurement: \", len(num_list)-1)\n",
    "\n",
    "i = 1\n",
    "far = []\n",
    "cel = []\n",
    "while i < len(num_list):\n",
    "    far.append(num_list[i])\n",
    "#     n = num_list[i]\n",
    "    cel.append(((num_list[i] -32) / 1.8).__round__())\n",
    "    i +=1\n",
    "    \n",
    "print(\"Fahrenheit: \")\n",
    "for f in far:\n",
    "    print(f, end=\" \")\n",
    "print(\"\\nCelcius: \")\n",
    "for c in cel:\n",
    "    print(c ,end=\" \")\n",
    "    \n",
    "\n",
    "    "
   ]
  }
 ],
 "metadata": {
  "kernelspec": {
   "display_name": "Python 3",
   "language": "python",
   "name": "python3"
  },
  "language_info": {
   "codemirror_mode": {
    "name": "ipython",
    "version": 3
   },
   "file_extension": ".py",
   "mimetype": "text/x-python",
   "name": "python",
   "nbconvert_exporter": "python",
   "pygments_lexer": "ipython3",
   "version": "3.5.1"
  }
 },
 "nbformat": 4,
 "nbformat_minor": 0
}
