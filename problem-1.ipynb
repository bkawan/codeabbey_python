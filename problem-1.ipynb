{
 "cells": [
  {
   "cell_type": "markdown",
   "metadata": {},
   "source": [
    "\n",
    "# Sum \"A+B\"\n",
    "\n",
    "- We need to sum two numbers and tell the result."
   ]
  },
  {
   "cell_type": "code",
   "execution_count": null,
   "metadata": {
    "collapsed": false
   },
   "outputs": [
    {
     "name": "stdout",
     "output_type": "stream",
     "text": [
      "Enter First Number: a\n",
      "Error!! Please Enter Numbers only\n",
      "****************************************\n",
      "Enter First Number: 1\n",
      "Enter Second Number: a\n",
      "Error!! Please Enter Numbers only\n",
      "****************************************\n",
      "Enter First Number: 1\n",
      "Enter Second Number: -\n",
      "Error!! Please Enter Numbers only\n",
      "****************************************\n",
      "Enter First Number: 100\n",
      "Enter Second Number: 4\n",
      "Sum of Two Number is:  104\n",
      "****************************************\n"
     ]
    }
   ],
   "source": [
    "while True:\n",
    "    x = input(\"Enter First Number: \" )\n",
    "    if x.isdigit():\n",
    "        y = input(\"Enter Second Number: \")\n",
    "        if y.isdigit():\n",
    "            sum = int(x)+int(y)\n",
    "            print(\"Sum of Two Number is: \",sum)\n",
    "        else:\n",
    "            print(\"Error!! Please Enter Numbers only\")\n",
    "    else:\n",
    "        \n",
    "        print(\"Error!! Please Enter Numbers only\")\n",
    "    print('****************************************')"
   ]
  },
  {
   "cell_type": "code",
   "execution_count": null,
   "metadata": {
    "collapsed": false
   },
   "outputs": [
    {
     "name": "stdout",
     "output_type": "stream",
     "text": [
      "Enter First Number: 9228\n",
      "Enter Second Number: 8151\n",
      "Sum of Two Number is:  17379\n",
      "****************************************\n"
     ]
    }
   ],
   "source": [
    "while True:\n",
    "    x = input(\"Enter First Number: \" )\n",
    "    if x.isdigit():\n",
    "        y = input(\"Enter Second Number: \")\n",
    "        if y.isdigit():\n",
    "            sum = int(x)+int(y)\n",
    "            print(\"Sum of Two Number is: \",sum)\n",
    "        else:\n",
    "            print(\"Error!! Please Enter Numbers only\")\n",
    "    else:\n",
    "        \n",
    "        print(\"Error!! Please Enter Numbers only\")\n",
    "    print('****************************************')"
   ]
  }
 ],
 "metadata": {
  "kernelspec": {
   "display_name": "Python 3",
   "language": "python",
   "name": "python3"
  },
  "language_info": {
   "codemirror_mode": {
    "name": "ipython",
    "version": 3
   },
   "file_extension": ".py",
   "mimetype": "text/x-python",
   "name": "python",
   "nbconvert_exporter": "python",
   "pygments_lexer": "ipython3",
   "version": "3.5.1"
  }
 },
 "nbformat": 4,
 "nbformat_minor": 0
}
