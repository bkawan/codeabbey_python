{
 "cells": [
  {
   "cell_type": "markdown",
   "metadata": {},
   "source": [
    "- @Author bkawan\n",
    "- @Date 13 May 2016"
   ]
  },
  {
   "cell_type": "markdown",
   "metadata": {},
   "source": [
    "# Linear function \n",
    "- Problem 10\n",
    "\n",
    "Linear function is defined by an equation:\n",
    "**y(x) = ax + b**\n",
    "\n",
    "Where a and b are some constants.\n",
    "For example, with a=3, b=2 function will yield values y = 2, 5, 8, 11...\n",
    "for x = 0, 1, 2, 3...\n",
    "\n",
    "Your task is to determine a and b by two points, belonging to the function.\n",
    "\n",
    "I.e. you are told two pairs of values (x1, y1), (x2, y2) which satisfy the function equation - and you should restore the equation itself.\n",
    "\n",
    "- **Input data** have the number of test-cases in the first line\n",
    "and then test-cases themselves in separate lines.\n",
    "Each case contains **4** integers **(x1 y1 x2 y2)**.\n",
    "- **Answers** should be integer too and you are to write them in line, separating with spaces and enclosing each pair in parenthesis, for example:\n",
    "\n",
    "input data:\n",
    "\n",
    "2\n",
    "\n",
    "0 0 1 1\n",
    "\n",
    "1 0 0 1\n",
    "\n",
    "answer:\n",
    "\n",
    "(1 0) (-1 1)\n",
    "\n"
   ]
  },
  {
   "cell_type": "markdown",
   "metadata": {},
   "source": [
    "- y1 = ax1 + b\n",
    "- y2 = ax2 +b\n",
    "- a = (y2-y1)/(x2-x1)\n",
    "- b = y-ax\n"
   ]
  },
  {
   "cell_type": "code",
   "execution_count": 119,
   "metadata": {
    "collapsed": false
   },
   "outputs": [
    {
     "name": "stdout",
     "output_type": "stream",
     "text": [
      "Enter test cases  12 118 8757 861 68940 -27 1779 525 -23061 -52 4248 70 -7464 835 60022 814 58489 -707 -24689 -843 -29449 979 -28616 -159 4386 884 51442 477 27836 -678 -50477 552 40543 414 -4115 443 -4434 -32 -612 35 -612 -894 32205 -626 22825 -812 -78635 331 33379\n",
      "Total Data : 48\n",
      "\n",
      "Data:\n",
      " 118 8757 861 68940\n",
      "-27 1779 525 -23061\n",
      "-52 4248 70 -7464\n",
      "835 60022 814 58489\n",
      "-707 -24689 -843 -29449\n",
      "979 -28616 -159 4386\n",
      "884 51442 477 27836\n",
      "-678 -50477 552 40543\n",
      "414 -4115 443 -4434\n",
      "-32 -612 35 -612\n",
      "-894 32205 -626 22825\n",
      "-812 -78635 331 33379\n",
      "\n",
      "Answer: \n",
      "(81 -801) (-45 564) (-96 -744) (73 -933) (35 56) (-29 -225) (58 170) (74 -305) (-11 439) (0 -612) (-35 915) (98 941) \n"
     ]
    }
   ],
   "source": [
    "\n",
    "def testCase(test_cases,divisible_by=4):\n",
    "    try:\n",
    "        num_list = [ int(num) for num in  test_cases.split(\" \") if num]\n",
    "        remainder = (len(num_list)-1)%int(divisible_by)\n",
    "        total_testCases = len(num_list)//int(divisible_by)\n",
    "        if len(num_list)>1 and remainder == 0:\n",
    "            return num_list\n",
    "        else:\n",
    "            print(\"Error!! Must be greater than 1 and Must be divisible by \", divisible_by)\n",
    "    except ValueError:\n",
    "        print(\"Error!! test cases numbers Must be integer only\")\n",
    "\n",
    "        \n",
    "\n",
    "test_cases = input(\"Enter test cases  \")\n",
    "#divisible_by = input(\"test cases divisible by: \")\n",
    "input_data = testCase(test_cases)\n",
    "\n",
    "if not input_data:\n",
    "    print('Error, Sorry could not do calculation by the given value please check')\n",
    "else:\n",
    "    i =1\n",
    "    total_data=len(input_data)-1\n",
    "    xy =\"\"\n",
    "    answer =\"\"\n",
    "    \n",
    "    while i < len(input_data):\n",
    "        testCase = input_data[i:i+4]\n",
    "    #     print(testCase)\n",
    "        x1= testCase[0]\n",
    "        y1 = testCase[1]\n",
    "        x2 =testCase[2]\n",
    "        y2 = testCase[3]\n",
    "        a = (y2-y1)//(x2-x1)\n",
    "        b = y2-(a*x2)\n",
    "        xy +=\"{} {} {} {}\\n\".format(x1,y1,x2,y2)\n",
    "        answer += \"({} {}) \".format(a,b)\n",
    "        answer.join(x)\n",
    "    #     print(\"({} {})\".format(a,b))\n",
    "        i +=4\n",
    "    print(\"Total Data :\" , total_data)\n",
    "    print(\"\\nData:\\n \" + xy)\n",
    "    print(\"Answer: \\n\"+answer)\n",
    "    "
   ]
  }
 ],
 "metadata": {
  "kernelspec": {
   "display_name": "Python 3",
   "language": "python",
   "name": "python3"
  },
  "language_info": {
   "codemirror_mode": {
    "name": "ipython",
    "version": 3
   },
   "file_extension": ".py",
   "mimetype": "text/x-python",
   "name": "python",
   "nbconvert_exporter": "python",
   "pygments_lexer": "ipython3",
   "version": "3.5.1"
  }
 },
 "nbformat": 4,
 "nbformat_minor": 0
}
