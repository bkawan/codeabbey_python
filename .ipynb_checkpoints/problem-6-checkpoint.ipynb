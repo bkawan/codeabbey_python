{
 "cells": [
  {
   "cell_type": "markdown",
   "metadata": {},
   "source": [
    "# Rounding\n",
    "Input data will give a number of test-cases in the first line.\n",
    "\n",
    "Next lines will contain one test-case (i.e. the pair of numbers) each.\n",
    "\n",
    "Answer should contain division-and-rounding results for each pair, separated with spaces\n",
    "\n",
    "Example:\n",
    "\n",
    "input data:\n",
    "\n",
    "3\n",
    "\n",
    "12 8\n",
    "\n",
    "11 -3\n",
    "\n",
    "400 5\n",
    "\n",
    "answer:\n",
    "\n",
    "2 -4 80"
   ]
  },
  {
   "cell_type": "markdown",
   "metadata": {},
   "source": [
    "# Method 1\n",
    "\n",
    "- using inbuilt  _ _round_ _ () function"
   ]
  },
  {
   "cell_type": "code",
   "execution_count": 119,
   "metadata": {
    "collapsed": false
   },
   "outputs": [
    {
     "name": "stdout",
     "output_type": "stream",
     "text": [
      "Enter pairs of number followed by spaces7187549 2484335 418173 2891654 9935025 2431174 4039 1174 5980971 -680493 9373363 620 16727 1622 5383 1038 14653 762 5881 1634 5899776 631 19449 642\n",
      "Total Number of pairs:  12 \n",
      "\n",
      "List of pairs: \n",
      "7187549 2484335 \n",
      "418173 2891654 \n",
      "9935025 2431174 \n",
      "4039 1174 \n",
      "5980971 -680493 \n",
      "9373363 620 \n",
      "16727 1622 \n",
      "5383 1038 \n",
      "14653 762 \n",
      "5881 1634 \n",
      "5899776 631 \n",
      "19449 642 \n",
      "\n",
      "Rounded Numbers: \n",
      "3 0 4 3 -9 15118 10 5 19 4 9350 30 "
     ]
    }
   ],
   "source": [
    "num_input = input(\"Enter pairs of number followed by spaces\")\n",
    "\n",
    "num_list = None\n",
    "\n",
    "while not num_input:\n",
    "    print(\"Error !!Empty number!!!\")\n",
    "    num_input = input(\"Enter numbers followed by spaces : \")\n",
    "\n",
    "while num_input:    \n",
    "    try:\n",
    "        num_list = [int(n) for n in num_input.split(\" \") if n]\n",
    "        if len(num_list)%2 !=0:\n",
    "            print(\"Error in forming pairs!! total counts of number must be divisible by 2\")\n",
    "            num_input = input(\"Enter numbers followed by spaces to form a pair(s) : \")\n",
    "            continue\n",
    "        break\n",
    "    except ValueError:\n",
    "        print(\"only integers  are allowed\")\n",
    "        num_input = input(\"Enter numbers followed by spaces to form a pair(s) : \")\n",
    "        \n",
    "\n",
    "print(\"Total Number of pairs: \", len(num_list)//2 ,\"\\n\")\n",
    "\n",
    "i = 0\n",
    "pairs = []\n",
    "rounded = []\n",
    "while i < len(num_list):\n",
    "    pair = num_list[i:i+2]\n",
    "    pairs.append(pair)\n",
    "    rounded.append((pair[0]/pair[1]).__round__())\n",
    "    #print((pair[0]/pair[1]).__round__(),end=\" \")\n",
    "    i +=2\n",
    "    \n",
    "\n",
    "# print(num_list)\n",
    "print(\"List of pairs: \")\n",
    "for p in pairs:\n",
    "    for num in p:\n",
    "        print(num,end=\" \")\n",
    "    print(\"\")\n",
    "print(\"\\nRounded Numbers: \")\n",
    "for num in rounded:\n",
    "    print(num,end=\" \")\n",
    "    "
   ]
  },
  {
   "cell_type": "markdown",
   "metadata": {},
   "source": [
    "# Method 2"
   ]
  },
  {
   "cell_type": "code",
   "execution_count": null,
   "metadata": {
    "collapsed": true
   },
   "outputs": [],
   "source": [
    "7701 28 475749 4 15 0 42 1 1 19893 13173 "
   ]
  },
  {
   "cell_type": "code",
   "execution_count": 120,
   "metadata": {
    "collapsed": false
   },
   "outputs": [
    {
     "name": "stdout",
     "output_type": "stream",
     "text": [
      "Enter pairs of number followed by spaces7187549 2484335 418173 2891654 9935025 2431174 4039 1174 5980971 -680493 9373363 620 16727 1622 5383 1038 14653 762 5881 1634 5899776 631 19449 642\n",
      "Total Number of pairs:  12 \n",
      "\n",
      "Fraction: ['2', '8931480657801787']\n",
      "Nume: 2\n",
      "Deno: 8931480657801787\n",
      "Fraction: ['0', '14461377467705333']\n",
      "Nume: 0\n",
      "Deno: 14461377467705333\n",
      "Fraction: ['4', '086513347049615']\n",
      "Nume: 4\n",
      "Deno: 086513347049615\n",
      "Fraction: ['3', '4403747870528107']\n",
      "Nume: 3\n",
      "Deno: 4403747870528107\n",
      "Fraction: ['-8', '789173437493112']\n",
      "Nume: -8\n",
      "Deno: 789173437493112\n",
      "Fraction: ['15118', '327419354839']\n",
      "Nume: 15118\n",
      "Deno: 327419354839\n",
      "Fraction: ['10', '312577065351418']\n",
      "Nume: 10\n",
      "Deno: 312577065351418\n",
      "Fraction: ['5', '1859344894026975']\n",
      "Nume: 5\n",
      "Deno: 1859344894026975\n",
      "Fraction: ['19', '22965879265092']\n",
      "Nume: 19\n",
      "Deno: 22965879265092\n",
      "Fraction: ['3', '599143206854345']\n",
      "Nume: 3\n",
      "Deno: 599143206854345\n",
      "Fraction: ['9349', '882725832013']\n",
      "Nume: 9349\n",
      "Deno: 882725832013\n",
      "Fraction: ['30', '294392523364486']\n",
      "Nume: 30\n",
      "Deno: 294392523364486\n",
      "List of pairs: \n",
      "7187549 2484335 \n",
      "418173 2891654 \n",
      "9935025 2431174 \n",
      "4039 1174 \n",
      "5980971 -680493 \n",
      "9373363 620 \n",
      "16727 1622 \n",
      "5383 1038 \n",
      "14653 762 \n",
      "5881 1634 \n",
      "5899776 631 \n",
      "19449 642 \n",
      "\n",
      "Rounded Numbers: \n",
      "3 0 4 3 -9 15118 10 5 19 4 9350 30 "
     ]
    }
   ],
   "source": [
    "num_input = input(\"Enter pairs of number followed by spaces\")\n",
    "\n",
    "num_list = None\n",
    "\n",
    "while not num_input:\n",
    "    print(\"Error !!Empty number!!!\")\n",
    "    num_input = input(\"Enter numbers followed by spaces : \")\n",
    "\n",
    "while num_input:    \n",
    "    try:\n",
    "        num_list = [int(n) for n in num_input.split(\" \") if n]\n",
    "        if len(num_list)%2 !=0:\n",
    "            print(\"Error in forming pairs!! total counts of number must be divisible by 2\")\n",
    "            num_input = input(\"Enter numbers followed by spaces to form a pair(s) : \")\n",
    "            continue\n",
    "        break\n",
    "    except ValueError:\n",
    "        print(\"only integers  are allowed\")\n",
    "        num_input = input(\"Enter numbers followed by spaces to form a pair(s) : \")\n",
    "        \n",
    "\n",
    "print(\"Total Number of pairs: \", len(num_list)//2 ,\"\\n\")\n",
    "\n",
    "\n",
    "pairs = []\n",
    "rounded = []\n",
    "i = 0\n",
    "while i < len(num_list):\n",
    "    pair = num_list[i:i+2]\n",
    "    pairs.append(pair)\n",
    "    result = pair[0]/pair[1]\n",
    "    fraction = str(result).split(\".\")\n",
    "    print(\"Fraction:\" , fraction)\n",
    "    nume = fraction[0]\n",
    "    deno = fraction[1]\n",
    "    print(\"Nume:\" , nume)\n",
    "    print(\"Deno:\" , deno)\n",
    "    \n",
    "    array = ['5','6','7','8','9']\n",
    "    if int(nume) >= 0 and deno[0] in array:\n",
    "        rounded.append(int(nume)+1)\n",
    "        #print(nume+1,end=\" \")\n",
    "    #elif nume < 0 and str(deno).startswith(\"1\") or str(deno).startswith(\"2\") or str(deno).startswith(\"3\")or str(deno).startswith(\"4\") or str(deno).startswith(\"0\"):\n",
    "\n",
    "    elif int(nume) <= 0 and deno[0] in array:\n",
    "        rounded.append(int(nume)-1)\n",
    "        #print(nume-1,end=\" \")\n",
    "    else:\n",
    "        rounded.append(int(nume))\n",
    "        #print(nume,end=\" \")\n",
    "    i +=2\n",
    "  \n",
    "    \n",
    "# print(num_list)\n",
    "print(\"List of pairs: \")\n",
    "for p in pairs:\n",
    "    for num in p:\n",
    "        print(num,end=\" \")\n",
    "    print(\"\")\n",
    "print(\"\\nRounded Numbers: \")\n",
    "for num in rounded:\n",
    "    print(num,end=\" \")\n"
   ]
  },
  {
   "cell_type": "code",
   "execution_count": 107,
   "metadata": {
    "collapsed": false
   },
   "outputs": [
    {
     "name": "stdout",
     "output_type": "stream",
     "text": [
      "0.42506963709867596\n",
      "['0', '42506963709867596']\n",
      "42506963709867596\n",
      "<class 'str'>\n",
      "4\n",
      "4\n",
      "Fail\n",
      "0\n"
     ]
    }
   ],
   "source": [
    "n = 603845/1420579 \n",
    "\n",
    "f = str(n).split(\".\")\n",
    "print(n)\n",
    "print(f)\n",
    "a = f[0]\n",
    "b = f[1]\n",
    "c= b[0]\n",
    "print(b)\n",
    "print(type(b[0]))\n",
    "print(b[0])\n",
    "print(c)\n",
    "array = ['5','6','7','8','9']\n",
    "if int(a) > 0 and c in array:\n",
    "    \n",
    "    print(\"Success\")\n",
    "else:\n",
    "    print(\"Fail\")\n",
    "    print(int(a))\n",
    "\n"
   ]
  }
 ],
 "metadata": {
  "kernelspec": {
   "display_name": "Python 3",
   "language": "python",
   "name": "python3"
  },
  "language_info": {
   "codemirror_mode": {
    "name": "ipython",
    "version": 3
   },
   "file_extension": ".py",
   "mimetype": "text/x-python",
   "name": "python",
   "nbconvert_exporter": "python",
   "pygments_lexer": "ipython3",
   "version": "3.5.1"
  }
 },
 "nbformat": 4,
 "nbformat_minor": 0
}
