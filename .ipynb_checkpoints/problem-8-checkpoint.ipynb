{
 "cells": [
  {
   "cell_type": "markdown",
   "metadata": {},
   "source": [
    "\n",
    "# Arithmetic Progression\n",
    "\n",
    "When we speak about arithmetic progression (or arithmetic sequence) we mean a series of numbers with a special property - each value is followed by the other, greater by predefined amount (step).\n",
    "\n",
    "I.e. difference of (K+1)-th and K-th values is a constant. Here are examples of sequences\n",
    "\n",
    "1 2 3 4 5 6 7 ...\n",
    "\n",
    "4 6 8 10 12 14 16...\n",
    "\n",
    "10 13 16 19 22 25 28...\n",
    "\n",
    "Since so, arithmetic sequence is completely defined by the first member (A) and the increment value - step size - (B). First few members could be expressed as\n",
    "\n",
    " A + (A + B) + (A + 2B) + (A + 3B) + ...\n",
    " \n",
    "You are to calculate the sum of first members of arithmetic sequence. Wikipedia page on arithmetic progression could be of significant help to one who meets them for the first time.\n",
    "\n",
    "- Input data: first line contains the number of test-cases.\n",
    "- Other lines contain test-cases in form of triplets of values A B N where A is the first value of the sequence, B is the step size and N is the number of first values which should be accounted.\n",
    "- Answer: you are to output results (sums of N first members) for each sequence, separated by spaces.\n",
    "\n",
    "Example:\n",
    "\n",
    "data:\n",
    "2\n",
    "\n",
    "5 2 3\n",
    "\n",
    "3 0 10\n",
    "\n",
    "\n",
    "answer:\n",
    "\n",
    "21 30"
   ]
  },
  {
   "cell_type": "code",
   "execution_count": 9,
   "metadata": {
    "collapsed": false
   },
   "outputs": [],
   "source": [
    "def emp_input():\n",
    "    print(\"Error !!Empty number!!!\")\n",
    "    num_input = input(\"Enter numbers followed by spaces: \")"
   ]
  },
  {
   "cell_type": "code",
   "execution_count": 15,
   "metadata": {
    "collapsed": false
   },
   "outputs": [
    {
     "name": "stdout",
     "output_type": "stream",
     "text": [
      "Enter Numbers: \n",
      "Error !!Empty number!!!\n",
      "Enter numbers followed by spaces : 1\n",
      "Error in forming test cases!! total counts of number must be divisible by 3\n",
      "Enter numbers followed by spaces to form a test cases : \n"
     ]
    },
    {
     "ename": "UnboundLocalError",
     "evalue": "local variable 'num_input' referenced before assignment",
     "output_type": "error",
     "traceback": [
      "\u001b[0;31m---------------------------------------------------------------------------\u001b[0m",
      "\u001b[0;31mUnboundLocalError\u001b[0m                         Traceback (most recent call last)",
      "\u001b[0;32m<ipython-input-15-aca5a9bc9c7d>\u001b[0m in \u001b[0;36m<module>\u001b[0;34m()\u001b[0m\n\u001b[1;32m     14\u001b[0m             \u001b[0mnum_input\u001b[0m \u001b[0;34m=\u001b[0m \u001b[0minput\u001b[0m\u001b[0;34m(\u001b[0m\u001b[0;34m\"Enter numbers followed by spaces to form a test cases : \"\u001b[0m\u001b[0;34m)\u001b[0m\u001b[0;34m\u001b[0m\u001b[0m\n\u001b[1;32m     15\u001b[0m             \u001b[0;32mwhile\u001b[0m \u001b[0;32mnot\u001b[0m \u001b[0mnum_input\u001b[0m\u001b[0;34m:\u001b[0m\u001b[0;34m\u001b[0m\u001b[0m\n\u001b[0;32m---> 16\u001b[0;31m                     \u001b[0memp_input\u001b[0m\u001b[0;34m(\u001b[0m\u001b[0;34m)\u001b[0m\u001b[0;34m\u001b[0m\u001b[0m\n\u001b[0m\u001b[1;32m     17\u001b[0m         \u001b[0;32mcontinue\u001b[0m\u001b[0;34m\u001b[0m\u001b[0m\n\u001b[1;32m     18\u001b[0m \u001b[0;34m\u001b[0m\u001b[0m\n",
      "\u001b[0;32m<ipython-input-9-33aab0a16e21>\u001b[0m in \u001b[0;36memp_input\u001b[0;34m()\u001b[0m\n\u001b[1;32m      1\u001b[0m \u001b[0;32mdef\u001b[0m \u001b[0memp_input\u001b[0m\u001b[0;34m(\u001b[0m\u001b[0;34m)\u001b[0m\u001b[0;34m:\u001b[0m\u001b[0;34m\u001b[0m\u001b[0m\n\u001b[0;32m----> 2\u001b[0;31m     \u001b[0;32mwhile\u001b[0m \u001b[0;32mnot\u001b[0m \u001b[0mnum_input\u001b[0m\u001b[0;34m:\u001b[0m\u001b[0;34m\u001b[0m\u001b[0m\n\u001b[0m\u001b[1;32m      3\u001b[0m         \u001b[0mprint\u001b[0m\u001b[0;34m(\u001b[0m\u001b[0;34m\"Error !!Empty number!!!\"\u001b[0m\u001b[0;34m)\u001b[0m\u001b[0;34m\u001b[0m\u001b[0m\n\u001b[1;32m      4\u001b[0m         \u001b[0mnum_input\u001b[0m \u001b[0;34m=\u001b[0m \u001b[0minput\u001b[0m\u001b[0;34m(\u001b[0m\u001b[0;34m\"Enter numbers followed by spaces: \"\u001b[0m\u001b[0;34m)\u001b[0m\u001b[0;34m\u001b[0m\u001b[0m\n",
      "\u001b[0;31mUnboundLocalError\u001b[0m: local variable 'num_input' referenced before assignment"
     ]
    }
   ],
   "source": [
    "num_input= input(\"Enter Numbers: \")\n",
    "\n",
    "num_list = None\n",
    "\n",
    "while not num_input:\n",
    "    print(\"Error !!Empty number!!!\")\n",
    "    num_input = input(\"Enter numbers followed by spaces : \")\n",
    "\n",
    "while num_input:    \n",
    "    try:\n",
    "        num_list = [int(n) for n in num_input.split(\" \") if n]\n",
    "        if len(num_list)%3 !=0:\n",
    "            print(\"Error in forming test cases!! total counts of number must be divisible by 3\")\n",
    "            num_input = input(\"Enter numbers followed by spaces to form a test cases : \")\n",
    "            continue\n",
    "        \n",
    "            \n",
    "        break\n",
    "                    \n",
    "    except ValueError:\n",
    "        print(\"only integers  are allowed\")\n",
    "        num_input = input(\"Enter numbers followed by spaces to form a pair(s) : \")\n",
    "\n",
    "        \n",
    "i = 0\n",
    "test_cases = []\n",
    "sums = []\n",
    "while i<len(num_list):\n",
    "    test_case = num_list[i:i+3]\n",
    "    test_cases.append(test_case)\n",
    "    a= int(test_case[0])\n",
    "    d=int(test_case[1])\n",
    "    n= int(test_case[2])\n",
    "    tn = int(a +(n-1)*d)\n",
    "    sum_of_tn = (a+tn)*(n/2)\n",
    "    sums.append(int(sum_of_tn))\n",
    "    i+=3\n",
    "\n",
    "print(\"Total number of Test Cases: \", len(test_cases))\n",
    "\n",
    "print(\"\\nTotal Test Cases: \")\n",
    "for test_case in test_cases:\n",
    "    for values in test_case:\n",
    "        print(values,end=\" \")\n",
    "    print(\"\")\n",
    "print(\"\\nAnswer-Sum of first nth terms in the sequence\")\n",
    "for s in sums:\n",
    "    print(s,end=\" \")\n",
    "    \n",
    "\n",
    "\n",
    "    \n",
    "    \n"
   ]
  }
 ],
 "metadata": {
  "kernelspec": {
   "display_name": "Python 3",
   "language": "python",
   "name": "python3"
  },
  "language_info": {
   "codemirror_mode": {
    "name": "ipython",
    "version": 3
   },
   "file_extension": ".py",
   "mimetype": "text/x-python",
   "name": "python",
   "nbconvert_exporter": "python",
   "pygments_lexer": "ipython3",
   "version": "3.5.1"
  }
 },
 "nbformat": 4,
 "nbformat_minor": 0
}
