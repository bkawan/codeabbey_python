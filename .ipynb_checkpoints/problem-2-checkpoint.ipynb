{
 "cells": [
  {
   "cell_type": "markdown",
   "metadata": {},
   "source": [
    "# Problem-2 \n",
    "### Sum in Loop\n",
    "\n",
    "- Now our goal is to learn the loops - i.e. repeated actions. Let us find the sum of several numbers (more than two). It will be useful to do this in a loop. As shown in the picture above - you can create variable sum and add every value from the list to it. Perhaps \"for\" loop will suit nicely since the amount of numbers is known beforehand.\n",
    "\n",
    "If you have troubles, try Sums In Loop first - it is, probably, easier.\n",
    "\n",
    "Input data has the following format:\n",
    "\n",
    "first line contains N - amount of values to sum;\n",
    "second line contains N values themselves.\n",
    "Answer should contain a single value - the sum of N values."
   ]
  },
  {
   "cell_type": "code",
   "execution_count": null,
   "metadata": {
    "collapsed": false
   },
   "outputs": [
    {
     "name": "stdout",
     "output_type": "stream",
     "text": [
      "Enter a number: 1\n",
      "+++++++++++++++++++++++++++\n",
      "Enter a number: 1\n",
      "+++++++++++++++++++++++++++\n",
      "Length of list is:  2 Your List of numbers:  ['1', '1']\n",
      "+++++++++++++++++++++++++++\n",
      "Do you want to sum all the numbers ?[Y/N]:n\n",
      "+++++++++++++++++++++++++++\n",
      "Enter a number: 3\n",
      "+++++++++++++++++++++++++++\n",
      "Length of list is:  3 Your List of numbers:  ['1', '1', '3']\n",
      "+++++++++++++++++++++++++++\n",
      "Do you want to sum all the numbers ?[Y/N]:y\n",
      "+++++++++++++++++++++++++++\n",
      "Sum of numbers in the list:  5\n",
      "+++++++++++++++++++++++++++\n"
     ]
    }
   ],
   "source": [
    "## Method 1\n",
    "sum = 0\n",
    "list=[]\n",
    "while True:\n",
    "    x = input(\"Enter a number: \")\n",
    "    print('+++++++++++++++++++++++++++')\n",
    "    if x.isdigit():\n",
    "        list.append(x)\n",
    "        sum += int(x)\n",
    "        if len(list) > 1:\n",
    "            print(\"Length of list is: \",len(list),\"Your List of numbers: \" ,list)\n",
    "            print('+++++++++++++++++++++++++++')\n",
    "            s = input(\"Do you want to sum all the numbers ?[Y/N]:\")\n",
    "            print('+++++++++++++++++++++++++++')\n",
    "            if s.lower() =='y':                 \n",
    "                print(\"Sum of numbers in the list: \",sum)\n",
    "                print('+++++++++++++++++++++++++++')\n",
    "            elif s.lower() =='n':\n",
    "                continue\n",
    "            else:\n",
    "                print(\"Invalid Command\")     \n",
    "    else:\n",
    "        print(\"Error!! Only numbers are allowed\")"
   ]
  },
  {
   "cell_type": "code",
   "execution_count": 1,
   "metadata": {
    "collapsed": false
   },
   "outputs": [
    {
     "name": "stdout",
     "output_type": "stream",
     "text": [
      "Enter a numbers sparated by space:\n",
      "\n",
      " 190 435 519 1040 902 165 1157 682 968 1189 1084 19 645 874 1093 1172 156 681 505 1026 212 973 144 1128 136 991 484 877 179 975 712 359 109 1221 99 1002 86 1246 383 1044 1135 167 1053 479 1032 846 350 1178\n",
      "***************************************************************\n",
      "Length of list is:  48 ->  ['190', '435', '519', '1040', '902', '165', '1157', '682', '968', '1189', '1084', '19', '645', '874', '1093', '1172', '156', '681', '505', '1026', '212', '973', '144', '1128', '136', '991', '484', '877', '179', '975', '712', '359', '109', '1221', '99', '1002', '86', '1246', '383', '1044', '1135', '167', '1053', '479', '1032', '846', '350', '1178']\n",
      "***************************************************************\n",
      "Sum of all the numbers: 33102\n"
     ]
    }
   ],
   "source": [
    "## Method 2\n",
    "\n",
    "sum = 0\n",
    "num = input(\"Enter a numbers sparated by space:\\n\\r \",)\n",
    "# list comprehension\n",
    "list = [x.strip() for x in num.split(' ') if x]## empty string is false and will not add to the list\n",
    "print(\"***************************************************************\")\n",
    "print(\"Length of list is: \",len(list),'-> ', list)\n",
    "print(\"***************************************************************\")\n",
    "for x in list:\n",
    "    sum +=int(x)\n",
    "print(\"Sum of all the numbers:\",sum)\n",
    "\n"
   ]
  }
 ],
 "metadata": {
  "kernelspec": {
   "display_name": "Python 3",
   "language": "python",
   "name": "python3"
  },
  "language_info": {
   "codemirror_mode": {
    "name": "ipython",
    "version": 3
   },
   "file_extension": ".py",
   "mimetype": "text/x-python",
   "name": "python",
   "nbconvert_exporter": "python",
   "pygments_lexer": "ipython3",
   "version": "3.5.1"
  }
 },
 "nbformat": 4,
 "nbformat_minor": 0
}
