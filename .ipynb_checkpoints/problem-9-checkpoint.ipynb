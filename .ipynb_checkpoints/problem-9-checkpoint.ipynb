{
 "cells": [
  {
   "cell_type": "markdown",
   "metadata": {},
   "source": [
    "# Triangles"
   ]
  },
  {
   "cell_type": "markdown",
   "metadata": {},
   "source": [
    "Triangle is an object built of three line segments (sides of triangle), connected by ends. Wiki on triangles provides more detailed explanation.\n",
    "If we have three line segments with lengths A B C - we either can built a triangle with them\n",
    "\n",
    "(for example with 3 4 5 or 3 4 7 - though this is with zero area) or we found it impossible\n",
    "(for example 1 2 4).\n",
    "\n",
    "You are given several triplets of values representing lengths of the sides of triangles. You should tell from which triplets it is possible to build triangle and for which it is not.\n",
    "\n",
    "Input data: First line will contain number of triplets.\n",
    "Other lines will contain triplets themselves (each in separate line).\n",
    "Answer: You should output 1 or 0 for each triplet (1 if triangle could be built and 0 otherwise).\n",
    "\n",
    "Example:\n",
    "\n",
    "data:\n",
    "\n",
    "2\n",
    "\n",
    "3 4 5\n",
    "\n",
    "1 2 4\n",
    "\n",
    "\n",
    "answer:\n",
    "\n",
    "1 0"
   ]
  },
  {
   "cell_type": "code",
   "execution_count": 26,
   "metadata": {
    "collapsed": false
   },
   "outputs": [
    {
     "name": "stdout",
     "output_type": "stream",
     "text": [
      "Enter a total number of triplets and triplets followed by spaces1 2 3 4 5 6 7\n",
      "[2, 3, 4]\n",
      "[5, 6, 7]\n",
      "Total Data \n",
      " 2\n",
      "List of Triplets:\n",
      " 2 3 4 \n",
      "5 6 7 \n",
      "\n",
      "Answer \n",
      " 1 1 \n"
     ]
    }
   ],
   "source": [
    "input_num  = input(\"Enter a total number of triplets and triplets followed by spaces\") \n",
    "\n",
    "total_data=\"\"\n",
    "status =\"\"\n",
    "triplets=\"\"\n",
    "\n",
    "try:\n",
    "    data  = [  int(x) for x in input_num.split(\" \") if x ]\n",
    "    i = 1\n",
    "    if(len(data)> 1 and (len(data)-1)%3 ==0):\n",
    "        total_data =(len(data)-1)//3\n",
    "        while i<len(data):\n",
    "            tri = data[i:i+3]\n",
    "            print(tri)\n",
    "            a = tri[0]\n",
    "            b = tri[1]\n",
    "            c = tri[2]\n",
    "            triplets +=\"{} {} {} \\n\".format(a,b,c)\n",
    "            sum1 = a+b\n",
    "            sum2 = b+c\n",
    "            sum3 = a+c\n",
    "            if sum1>c and sum2>a and sum3>b:\n",
    "                status +=\"1 \"\n",
    "            else:\n",
    "                status +=\"0\"\n",
    "            i +=3\n",
    "    else:\n",
    "        print(\"Invalid pair\")\n",
    "            \n",
    "    \n",
    "except ValueError:\n",
    "    print(\"Invalid number please enter ingeter only\")\n",
    "print(\"Total Data \\n\",total_data)\n",
    "print(\"List of Triplets:\\n\",triplets)\n",
    "print(\"Answer \\n\",status)"
   ]
  },
  {
   "cell_type": "code",
   "execution_count": 18,
   "metadata": {
    "collapsed": false
   },
   "outputs": [
    {
     "name": "stdout",
     "output_type": "stream",
     "text": [
      "2 3 4 \n",
      "5 6 7 \n",
      "\n"
     ]
    }
   ],
   "source": [
    "print(triplets)\n",
    "\n",
    "# print(\"Total Triplets: \",total_data)\n",
    "# for i in triplets:\n",
    "#     print(i,end=\" \")\n"
   ]
  }
 ],
 "metadata": {
  "kernelspec": {
   "display_name": "Python 3",
   "language": "python",
   "name": "python3"
  },
  "language_info": {
   "codemirror_mode": {
    "name": "ipython",
    "version": 3
   },
   "file_extension": ".py",
   "mimetype": "text/x-python",
   "name": "python",
   "nbconvert_exporter": "python",
   "pygments_lexer": "ipython3",
   "version": "3.5.1"
  }
 },
 "nbformat": 4,
 "nbformat_minor": 0
}
