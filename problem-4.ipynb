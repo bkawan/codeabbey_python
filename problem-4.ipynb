{
 "cells": [
  {
   "cell_type": "markdown",
   "metadata": {},
   "source": [
    "# Minimum of Two\n",
    "\n",
    "Input data will contain number of test-cases in the first line.\n",
    "\n",
    "Following lines will contain a pair of numbers to compare each.\n",
    "\n",
    "For Answer please enter the same amount of minimums separated by space, for example:\n",
    "\n",
    "data:\n",
    "\n",
    "3\n",
    "\n",
    "5 3\n",
    "\n",
    "2 8\n",
    "\n",
    "100 15\n",
    "\n",
    "answer:\n",
    "\n",
    "3 2 15\n"
   ]
  },
  {
   "cell_type": "code",
   "execution_count": 54,
   "metadata": {
    "collapsed": false
   },
   "outputs": [
    {
     "name": "stdout",
     "output_type": "stream",
     "text": [
      "Enter a numbers of Number pair separated by spaces: 8563667 -1815962 9837247 -7528004 -6070507 -8252047 -3646263 5644731 -6006647 -5260169 8093097 -5501710 -3375908 629298 -29716 -1426892 -1152047 -1091111 -8696949 -7730613 -6238511 -581623 3039452 -8987247 -7987307 5160685 9968040 4718942 -1751421 9815965 -7347170 -3187753 -1999996 -7509922 -715758 1929496 -5761970 5637979 -2425772 -1768617 -9622190 -4332675 2729672 -2998098 6296623 -7300044 5575009 -4855424\n",
      "\n",
      "Total Number of  number pairs:  24 \n",
      "\n",
      "8563667 -1815962\n",
      "9837247 -7528004\n",
      "-6070507 -8252047\n",
      "-3646263 5644731\n",
      "-6006647 -5260169\n",
      "8093097 -5501710\n",
      "-3375908 629298\n",
      "-29716 -1426892\n",
      "-1152047 -1091111\n",
      "-8696949 -7730613\n",
      "-6238511 -581623\n",
      "3039452 -8987247\n",
      "-7987307 5160685\n",
      "9968040 4718942\n",
      "-1751421 9815965\n",
      "-7347170 -3187753\n",
      "-1999996 -7509922\n",
      "-715758 1929496\n",
      "-5761970 5637979\n",
      "-2425772 -1768617\n",
      "-9622190 -4332675\n",
      "2729672 -2998098\n",
      "6296623 -7300044\n",
      "5575009 -4855424\n",
      "\n",
      "Answers(smallest number in the  pairs above): \n",
      "-1815962 -7528004 -8252047 -3646263 -6006647 -5501710 -3375908 -1426892 -1152047 -8696949 -6238511 -8987247 -7987307 4718942 -1751421 -7347170 -7509922 -715758 -5761970 -2425772 -9622190 -2998098 -7300044 -4855424 "
     ]
    }
   ],
   "source": [
    "num_input= input(\"Enter a numbers of Number pair separated by spaces: \")\n",
    "\n",
    "num_list = [ num.strip() for num in num_input.split() if num ]\n",
    "\n",
    "z = 0\n",
    "while len(num_list)%2 !=0:\n",
    "    print(\"number of pairs must be even\")\n",
    "    num_input= input(\"Enter a numbers of Number pair separated by spaces:: \")\n",
    "    num_list = [ num.strip() for num in num_input.split() if num ]\n",
    "    z +=1\n",
    "    \n",
    "print(\"\\nTotal Number of  number pairs: \",len(num_list)//2 ,\"\\n\")\n",
    "\n",
    "\n",
    "list_right = []\n",
    "list_left = []\n",
    "i =0\n",
    "\n",
    "while i < len(num_list):\n",
    "    if i%2 == 0:\n",
    "        list_left.append(num_list[i])\n",
    "    else:\n",
    "        list_right.append(num_list[i])\n",
    "    i +=1\n",
    "    \n",
    "x = 0\n",
    "smallest=[]\n",
    "\n",
    "while x < len(num_list)/2:\n",
    "    try:\n",
    "        num1 = int(list_left[x])\n",
    "        num2 = int(list_right[x])\n",
    "        print(\"{} {}\".format(num1,num2))\n",
    "        smallest.append(num1) if num1 < num2 else smallest.append(num2)\n",
    "    \n",
    "    except ValueError:\n",
    "        print(\"{} {} Invalid Numbers pair!! can not be compared\".format(list_left[x],list_right[x]))\n",
    "    x +=1\n",
    "\n",
    "print(\"\\nAnswers(smallest number in the  pairs above): \")\n",
    "for sm in smallest:\n",
    "    print(sm,end=\" \")"
   ]
  }
 ],
 "metadata": {
  "kernelspec": {
   "display_name": "Python 3",
   "language": "python",
   "name": "python3"
  },
  "language_info": {
   "codemirror_mode": {
    "name": "ipython",
    "version": 3
   },
   "file_extension": ".py",
   "mimetype": "text/x-python",
   "name": "python",
   "nbconvert_exporter": "python",
   "pygments_lexer": "ipython3",
   "version": "3.5.1"
  }
 },
 "nbformat": 4,
 "nbformat_minor": 0
}
